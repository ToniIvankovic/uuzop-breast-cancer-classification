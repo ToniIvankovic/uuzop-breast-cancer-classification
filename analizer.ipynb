{
 "cells": [
  {
   "cell_type": "markdown",
   "metadata": {},
   "source": [
    "## Klasifikacija malignog i benignog raka dojke koristeći algoritme strojnog učenja $\\newline$- replikacija rezultata"
   ]
  },
  {
   "cell_type": "markdown",
   "metadata": {},
   "source": [
    "Rad je preuzet s poveznice: https://ieeexplore.ieee.org/document/9445249"
   ]
  },
  {
   "cell_type": "code",
   "execution_count": 1,
   "metadata": {},
   "outputs": [],
   "source": [
    "import seaborn as sns\n",
    "import pandas as pd\n",
    "import matplotlib.pyplot as plt"
   ]
  },
  {
   "cell_type": "markdown",
   "metadata": {},
   "source": [
    "Radi replikacije rezultata, podatci su pripremljeni na isti način kao što je opisano u radu. Nisu izbacivane stršeće vrijednosti, već su korišteni svi primjerci.\n",
    "Vidimo da distribucija po klasama točno odgovara onoj dobivenoj u radu na slici 1:"
   ]
  },
  {
   "cell_type": "code",
   "execution_count": 2,
   "metadata": {},
   "outputs": [
    {
     "data": {
      "image/png": "[encoded data removed]",
      "text/plain": [
       "<Figure size 640x480 with 1 Axes>"
      ]
     },
     "metadata": {},
     "output_type": "display_data"
    },
    {
     "name": "stdout",
     "output_type": "stream",
     "text": [
      "0    357\n",
      "1    212\n",
      "Name: diagnosis, dtype: int64\n"
     ]
    }
   ],
   "source": [
    "df = pd.read_csv('data_sanitized.csv')\n",
    "sns.countplot(df, x='diagnosis')\n",
    "plt.show()\n",
    "print(df['diagnosis'].value_counts())"
   ]
  },
  {
   "cell_type": "markdown",
   "metadata": {},
   "source": [
    "Kao što je navedeno u odlomku III.B, izbačeni su atributi _fractal\\_dimension\\_mean_, _texture\\_se_ i _symmetry\\_se_ zbog vrlo niske korelacije s ciljnim razredom."
   ]
  },
  {
   "cell_type": "code",
   "execution_count": 3,
   "metadata": {},
   "outputs": [
    {
     "name": "stdout",
     "output_type": "stream",
     "text": [
      "# of columns before: 31\n",
      "['diagnosis' 'radius_mean' 'texture_mean' 'perimeter_mean' 'area_mean'\n",
      " 'smoothness_mean' 'compactness_mean' 'concavity_mean'\n",
      " 'concave_points_mean' 'symmetry_mean' 'radius_se' 'perimeter_se'\n",
      " 'area_se' 'smoothness_se' 'compactness_se' 'concavity_se'\n",
      " 'concave_points_se' 'fractal_dimension_se' 'radius_worst' 'texture_worst'\n",
      " 'perimeter_worst' 'area_worst' 'smoothness_worst' 'compactness_worst'\n",
      " 'concavity_worst' 'concave_points_worst' 'symmetry_worst'\n",
      " 'fractal_dimension_worst']\n",
      "# of columns after: 28\n"
     ]
    }
   ],
   "source": [
    "print(\"# of columns before:\", len(df.columns.values))\n",
    "df.drop(['fractal_dimension_mean', 'texture_se', 'symmetry_se'], axis=1, inplace=True)\n",
    "print(df.columns.values)\n",
    "print(\"# of columns after:\", len(df.columns.values))\n"
   ]
  },
  {
   "cell_type": "markdown",
   "metadata": {},
   "source": [
    "Potom, skup podataka nasumično je podijeljen u skup za treniranje i skup za testiranje u omjeru 3:1"
   ]
  },
  {
   "cell_type": "code",
   "execution_count": 4,
   "metadata": {},
   "outputs": [],
   "source": [
    "#split df into train and test\n",
    "from sklearn.model_selection import train_test_split\n",
    "X = df.drop(['diagnosis'], axis=1)\n",
    "y = df['diagnosis']\n",
    "X_train, X_test, y_train, y_test = train_test_split(X, y, test_size=0.25)\n"
   ]
  },
  {
   "cell_type": "markdown",
   "metadata": {},
   "source": [
    "Sada ćemo redom isprobati navedene algoritme strojnog učenja, zabilježiti njihove preciznosti i naposljetku ih skupno prikazati."
   ]
  },
  {
   "cell_type": "markdown",
   "metadata": {},
   "source": [
    "### Logistička regresija"
   ]
  },
  {
   "cell_type": "code",
   "execution_count": 5,
   "metadata": {},
   "outputs": [
    {
     "name": "stdout",
     "output_type": "stream",
     "text": [
      "Accuracy on training set: 0.9577464788732394\n",
      "Accuracy on test set: 0.965034965034965\n"
     ]
    }
   ],
   "source": [
    "# logistic regression\n",
    "from sklearn.linear_model import LogisticRegression\n",
    "logisticRegr = LogisticRegression(max_iter=100000)\n",
    "logisticRegr.fit(X_train, y_train)\n",
    "LRaccTrain = logisticRegr.score(X_train, y_train)\n",
    "print(\"Accuracy on training set:\", LRaccTrain)\n",
    "LRaccTest = logisticRegr.score(X_test, y_test)\n",
    "print(\"Accuracy on test set:\", LRaccTest)\n"
   ]
  },
  {
   "cell_type": "markdown",
   "metadata": {},
   "source": [
    "### K-Najbližih susjeda (KNN)"
   ]
  },
  {
   "cell_type": "code",
   "execution_count": 6,
   "metadata": {},
   "outputs": [
    {
     "name": "stdout",
     "output_type": "stream",
     "text": [
      "Accuracy on training set (2): 0.9483568075117371\n",
      "Accuracy on test set (2): 0.951048951048951\n"
     ]
    }
   ],
   "source": [
    "# KNN classifier\n",
    "from sklearn.neighbors import KNeighborsClassifier\n",
    "maxAccTrain = 0\n",
    "maxAccTest = 0\n",
    "maxi = 0\n",
    "for i in range(1, 30):\n",
    "    knn = KNeighborsClassifier(n_neighbors=i)\n",
    "    knn.fit(X_train, y_train)\n",
    "    KNNaccTrain = knn.score(X_train, y_train)\n",
    "    KNNaccTest = knn.score(X_test, y_test)\n",
    "    if(KNNaccTest > maxAccTest):\n",
    "        maxAccTest = KNNaccTest\n",
    "        maxAccTrain = KNNaccTrain\n",
    "        maxi = i\n",
    "\n",
    "print(f\"Accuracy on training set ({maxi}):\", maxAccTrain)\n",
    "print(f\"Accuracy on test set ({maxi}):\", maxAccTest)"
   ]
  },
  {
   "cell_type": "markdown",
   "metadata": {},
   "source": [
    "### Stablo odluke"
   ]
  },
  {
   "cell_type": "code",
   "execution_count": 7,
   "metadata": {},
   "outputs": [
    {
     "name": "stdout",
     "output_type": "stream",
     "text": [
      "Accuracy on training set: 1.0\n",
      "Accuracy on test set: 0.9230769230769231\n"
     ]
    }
   ],
   "source": [
    "#decision tree\n",
    "from sklearn.tree import DecisionTreeClassifier\n",
    "tree = DecisionTreeClassifier()\n",
    "tree.fit(X_train, y_train)\n",
    "treeAccTrain = tree.score(X_train, y_train)\n",
    "print(\"Accuracy on training set:\", treeAccTrain)\n",
    "treeAccTest = tree.score(X_test, y_test)\n",
    "print(\"Accuracy on test set:\", treeAccTest)\n"
   ]
  },
  {
   "cell_type": "markdown",
   "metadata": {},
   "source": [
    "### Naivni Bayesov klasifikator"
   ]
  },
  {
   "cell_type": "code",
   "execution_count": 8,
   "metadata": {},
   "outputs": [
    {
     "name": "stdout",
     "output_type": "stream",
     "text": [
      "Accuracy on training set: 0.9413145539906104\n",
      "Accuracy on test set: 0.9440559440559441\n"
     ]
    }
   ],
   "source": [
    "#naive bayes\n",
    "from sklearn.naive_bayes import GaussianNB\n",
    "nb = GaussianNB()\n",
    "nb.fit(X_train, y_train)\n",
    "nbAccTrain = nb.score(X_train, y_train)\n",
    "print(\"Accuracy on training set:\", nbAccTrain)\n",
    "nbAccTest = nb.score(X_test, y_test)\n",
    "print(\"Accuracy on test set:\", nbAccTest)"
   ]
  },
  {
   "cell_type": "markdown",
   "metadata": {},
   "source": [
    "### Slučajna šuma"
   ]
  },
  {
   "cell_type": "code",
   "execution_count": 9,
   "metadata": {},
   "outputs": [
    {
     "name": "stdout",
     "output_type": "stream",
     "text": [
      "Accuracy on training set: 1.0\n",
      "Accuracy on test set: 0.965034965034965\n"
     ]
    }
   ],
   "source": [
    "#random forest\n",
    "from sklearn.ensemble import RandomForestClassifier\n",
    "rf = RandomForestClassifier()\n",
    "rf.fit(X_train, y_train)\n",
    "rfAccTrain = rf.score(X_train, y_train)\n",
    "print(\"Accuracy on training set:\", rfAccTrain)\n",
    "rfAccTest = rf.score(X_test, y_test)\n",
    "print(\"Accuracy on test set:\", rfAccTest)\n"
   ]
  },
  {
   "cell_type": "markdown",
   "metadata": {},
   "source": [
    "### Stroj potpornih vektora"
   ]
  },
  {
   "cell_type": "code",
   "execution_count": 10,
   "metadata": {},
   "outputs": [
    {
     "name": "stdout",
     "output_type": "stream",
     "text": [
      "Best accuracy on training set (C=0.0001, method=linear): 0.9225352112676056\n",
      "Best accuracy on test set (C=0.0001, method=linear): 0.9790209790209791\n",
      "Best accuracy on training set (C=100, method=poly): 0.9178403755868545\n",
      "Best accuracy on test set (C=100, method=poly): 0.965034965034965\n",
      "Best accuracy on training set (C=100, method=rbf): 0.9225352112676056\n",
      "Best accuracy on test set (C=100, method=rbf): 0.972027972027972\n",
      "Best accuracy on training set (C=1e-10, method=sigmoid): 0.607981220657277\n",
      "Best accuracy on test set (C=1e-10, method=sigmoid): 0.6853146853146853\n"
     ]
    }
   ],
   "source": [
    "# SVM\n",
    "from sklearn.svm import SVC\n",
    "methodsAcc = {'linear': (0, 0, 0), 'poly': (\n",
    "    0, 0, 0), 'rbf': (0, 0, 0), 'sigmoid': (0, 0, 0)}\n",
    "for method in methodsAcc.keys():\n",
    "    i = -10\n",
    "    improving = 2\n",
    "    while(i < 6 or improving > 0):\n",
    "        # print(i)\n",
    "        improving -= 1\n",
    "        svm = SVC(kernel=method, C=10**i)\n",
    "        svm.fit(X_train, y_train)\n",
    "        SVMaccTrain = svm.score(X_train, y_train)\n",
    "        SVMaccTest = svm.score(X_test, y_test)\n",
    "        if (SVMaccTest > methodsAcc[method][2]+0.0001):\n",
    "            # print(methodsAcc[method][2], SVMaccTest, i)\n",
    "            methodsAcc[method] = (i, SVMaccTrain, SVMaccTest)\n",
    "            improving = 2\n",
    "        i += 1\n",
    "    print(\n",
    "        f\"Best accuracy on training set (C={10**methodsAcc[method][0]}, method={method}):\", methodsAcc[method][1])\n",
    "    print(\n",
    "        f\"Best accuracy on test set (C={10**methodsAcc[method][0]}, method={method}):\", methodsAcc[method][2])\n"
   ]
  },
  {
   "cell_type": "markdown",
   "metadata": {},
   "source": [
    "### Usporedba rezultata\n",
    "Nakon treniranja algoritama, dobiveni su sljedeći rezultati:"
   ]
  },
  {
   "cell_type": "code",
   "execution_count": 11,
   "metadata": {},
   "outputs": [
    {
     "name": "stdout",
     "output_type": "stream",
     "text": [
      "Classifier             Training Accuracy    Test Accuracy\n",
      "-------------------  -------------------  ---------------\n",
      "Logistic Regression             0.957746         0.965035\n",
      "KNN                             0.948357         0.951049\n",
      "Decision Tree                   1                0.923077\n",
      "Naive Bayes                     0.941315         0.944056\n",
      "Random Forest                   1                0.965035\n",
      "SVM (linear)                    0.922535         0.979021\n",
      "SVM (poly)                      0.91784          0.965035\n",
      "SVM (rbf)                       0.922535         0.972028\n",
      "SVM (sigmoid)                   0.607981         0.685315\n"
     ]
    }
   ],
   "source": [
    "# make an aligned markdown table with all the accuracies\n",
    "from tabulate import tabulate\n",
    "table = [['Logistic Regression', LRaccTrain, LRaccTest]\n",
    ", ['KNN', maxAccTrain, maxAccTest]\n",
    ", ['Decision Tree', treeAccTrain, treeAccTest]\n",
    ", ['Naive Bayes', nbAccTrain, nbAccTest]\n",
    ", ['Random Forest', rfAccTrain, rfAccTest]\n",
    ", ['SVM (linear)', methodsAcc['linear'][1], methodsAcc['linear'][2]]\n",
    ", ['SVM (poly)', methodsAcc['poly'][1], methodsAcc['poly'][2]]\n",
    ", ['SVM (rbf)', methodsAcc['rbf'][1], methodsAcc['rbf'][2]]\n",
    ", ['SVM (sigmoid)', methodsAcc['sigmoid'][1], methodsAcc['sigmoid'][2]]]\n",
    "print(tabulate(table, headers=['Classifier',\n",
    "      'Training Accuracy', 'Test Accuracy']))\n"
   ]
  },
  {
   "cell_type": "markdown",
   "metadata": {},
   "source": [
    "Rezultati dobiveni u referentnom radu su:\n",
    "\n",
    "![](accuracy_table.png)"
   ]
  }
 ],
 "metadata": {
  "kernelspec": {
   "display_name": "Python 3.10.0 64-bit",
   "language": "python",
   "name": "python3"
  },
  "language_info": {
   "codemirror_mode": {
    "name": "ipython",
    "version": 3
   },
   "file_extension": ".py",
   "mimetype": "text/x-python",
   "name": "python",
   "nbconvert_exporter": "python",
   "pygments_lexer": "ipython3",
   "version": "3.10.0 (tags/v3.10.0:b494f59, Oct  4 2021, 19:00:18) [MSC v.1929 64 bit (AMD64)]"
  },
  "orig_nbformat": 4,
  "vscode": {
   "interpreter": {
    "hash": "a636086dbf68cf48bee50d534d616f63bc1b68ef5763824030be4d2af448cf01"
   }
  }
 },
 "nbformat": 4,
 "nbformat_minor": 2
}
