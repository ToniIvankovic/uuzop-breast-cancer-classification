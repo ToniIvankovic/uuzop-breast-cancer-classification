{
 "cells": [
  {
   "cell_type": "markdown",
   "metadata": {
    "id": "UfAdMwycK1Wv"
   },
   "source": [
    "## Klasifikacija malignog i benignog raka dojke koristeći algoritme strojnog učenja $\\newline$- poboljšanje rezultata"
   ]
  },
  {
   "cell_type": "markdown",
   "metadata": {
    "id": "thlu5EgwK1W3"
   },
   "source": [
    "Rad je preuzet s poveznice: https://ieeexplore.ieee.org/document/9445249"
   ]
  },
  {
   "cell_type": "code",
   "execution_count": 1,
   "metadata": {
    "id": "FVXthVD0K1W_"
   },
   "outputs": [],
   "source": [
    "import seaborn as sns\n",
    "import pandas as pd\n",
    "import matplotlib.pyplot as plt\n",
    "import warnings\n",
    "warnings.filterwarnings(\"ignore\")"
   ]
  },
  {
   "cell_type": "markdown",
   "metadata": {
    "id": "Vfl-VrcCK1XN"
   },
   "source": [
    "Za razliku od originalne analize, svaka je metoda strojnog učenja **ponovljena N=10 puta** kako bi se usrednjila dobivena vrijednost i dobili pouzdaniji rezultati.\n",
    "\n",
    "Osim toga, analize su isprobane na **cijelom skupu** podataka i na **reduciranom skupu** u kojemu su izbačene stršeće vrijednosti (gledajući zasebno svaku klasu)."
   ]
  },
  {
   "cell_type": "code",
   "execution_count": 2,
   "metadata": {
    "id": "YfeSFvSyK1XQ"
   },
   "outputs": [],
   "source": [
    "N=10"
   ]
  },
  {
   "cell_type": "code",
   "execution_count": 3,
   "metadata": {
    "colab": {
     "base_uri": "https://localhost:8080/",
     "height": 331
    },
    "id": "jBq8AM8YK1XX",
    "outputId": "ec6c97be-4de2-4eb1-bf9a-ff206d127966"
   },
   "outputs": [
    {
     "data": {
      "image/png": "[encoded data removed]",
      "text/plain": [
       "<Figure size 432x288 with 1 Axes>"
      ]
     },
     "metadata": {
      "needs_background": "light"
     },
     "output_type": "display_data"
    },
    {
     "name": "stdout",
     "output_type": "stream",
     "text": [
      "0    357\n",
      "1    212\n",
      "Name: diagnosis, dtype: int64\n"
     ]
    }
   ],
   "source": [
    "df = pd.read_csv('data_sanitized.csv')\n",
    "sns.countplot(df['diagnosis'], label='count')\n",
    "plt.show()\n",
    "print(df['diagnosis'].value_counts())"
   ]
  },
  {
   "cell_type": "code",
   "execution_count": 4,
   "metadata": {
    "colab": {
     "base_uri": "https://localhost:8080/",
     "height": 331
    },
    "id": "lum9E3WaK1Xc",
    "outputId": "aa46888d-dd24-4658-9335-400c21086785"
   },
   "outputs": [
    {
     "data": {
      "image/png": "[encoded data removed]",
      "text/plain": [
       "<Figure size 432x288 with 1 Axes>"
      ]
     },
     "metadata": {
      "needs_background": "light"
     },
     "output_type": "display_data"
    },
    {
     "name": "stdout",
     "output_type": "stream",
     "text": [
      "0    357\n",
      "1    212\n",
      "Name: diagnosis, dtype: int64\n"
     ]
    }
   ],
   "source": [
    "df = pd.read_csv('data_sanitized.csv')\n",
    "sns.countplot(df['diagnosis'], label='count')\n",
    "plt.show()\n",
    "print(df['diagnosis'].value_counts())"
   ]
  },
  {
   "cell_type": "markdown",
   "metadata": {
    "id": "1EvOkj8PK1Xd"
   },
   "source": [
    "Za početak **nijedan atribut nije izbačen** s obzirom na to da koeficijent korelacije iskazuje samo linearnu korelaciju, stoga njegova vrijednost blizu nuli ne indicira nužno nepostojanje korelacije. Također, trenutno korištene metode strojnog učenja rade dovoljno brzo i sa svim atributima."
   ]
  },
  {
   "cell_type": "code",
   "execution_count": 5,
   "metadata": {
    "colab": {
     "base_uri": "https://localhost:8080/"
    },
    "id": "VPPIWVYmK1Xf",
    "outputId": "a4ef55d1-d6d4-427c-ea5e-2352b1ed1249"
   },
   "outputs": [
    {
     "name": "stdout",
     "output_type": "stream",
     "text": [
      "# of columns: 31\n",
      "['diagnosis' 'radius_mean' 'texture_mean' 'perimeter_mean' 'area_mean'\n",
      " 'smoothness_mean' 'compactness_mean' 'concavity_mean'\n",
      " 'concave_points_mean' 'symmetry_mean' 'fractal_dimension_mean'\n",
      " 'radius_se' 'texture_se' 'perimeter_se' 'area_se' 'smoothness_se'\n",
      " 'compactness_se' 'concavity_se' 'concave_points_se' 'symmetry_se'\n",
      " 'fractal_dimension_se' 'radius_worst' 'texture_worst' 'perimeter_worst'\n",
      " 'area_worst' 'smoothness_worst' 'compactness_worst' 'concavity_worst'\n",
      " 'concave_points_worst' 'symmetry_worst' 'fractal_dimension_worst']\n"
     ]
    }
   ],
   "source": [
    "print(\"# of columns:\", len(df.columns.values))\n",
    "print(df.columns.values)\n"
   ]
  },
  {
   "cell_type": "markdown",
   "metadata": {
    "id": "Vph84XsbK1Xj"
   },
   "source": [
    "Također, skup podataka je **pri svakoj iteraciji** nasumično podijeljen u skup za treniranje i skup za testiranje u omjeru 3:1"
   ]
  },
  {
   "cell_type": "code",
   "execution_count": 6,
   "metadata": {
    "id": "TCucZqCLK1Xm"
   },
   "outputs": [],
   "source": [
    "#split df into train and test\n",
    "from sklearn.model_selection import train_test_split\n",
    "X = df.drop(['diagnosis'], axis=1)\n",
    "y = df['diagnosis']\n",
    "testSize = 0.25 #ubaciti svugdje"
   ]
  },
  {
   "cell_type": "markdown",
   "metadata": {
    "id": "T6YB9NmTK1Xo"
   },
   "source": [
    "Sada ćemo redom isprobati navedene algoritme strojnog učenja, zabilježiti njihove preciznosti i naposljetku ih skupno prikazati."
   ]
  },
  {
   "cell_type": "markdown",
   "metadata": {
    "id": "6wXYGmF5K1Xq"
   },
   "source": [
    "### Logistička regresija"
   ]
  },
  {
   "cell_type": "code",
   "execution_count": 7,
   "metadata": {
    "colab": {
     "base_uri": "https://localhost:8080/"
    },
    "id": "dTRizFDOK1Xs",
    "outputId": "5871ea34-f481-4e7b-c5a6-b1a190023ea8"
   },
   "outputs": [
    {
     "name": "stdout",
     "output_type": "stream",
     "text": [
      "..........\n",
      "Average accuracy on training set: 0.9607981220657278\n",
      "Average accuracy on test set: 0.9538461538461538\n"
     ]
    }
   ],
   "source": [
    "# logistic regression\n",
    "from sklearn.linear_model import LogisticRegression\n",
    "trainAccs, testAccs = [], []\n",
    "for i in range(N):\n",
    "  print(\".\", end=\"\")\n",
    "  X_train, X_test, y_train, y_test = train_test_split(X, y, test_size=0.25)\n",
    "  logisticRegr = LogisticRegression(max_iter=100000)\n",
    "  logisticRegr.fit(X_train, y_train)\n",
    "  LRaccTrain = logisticRegr.score(X_train, y_train)\n",
    "  LRaccTest = logisticRegr.score(X_test, y_test)\n",
    "  trainAccs.append(LRaccTrain)\n",
    "  testAccs.append(LRaccTest)\n",
    "print()\n",
    "LRaccTrain = sum(trainAccs)/len(trainAccs)\n",
    "LRaccTest = sum(testAccs)/len(testAccs)\n",
    "print(\"Average accuracy on training set:\", LRaccTrain)\n",
    "print(\"Average accuracy on test set:\", LRaccTest)"
   ]
  },
  {
   "cell_type": "markdown",
   "metadata": {
    "id": "tT31TedIK1Xu"
   },
   "source": [
    "### K-Najbližih susjeda (KNN)"
   ]
  },
  {
   "cell_type": "code",
   "execution_count": 8,
   "metadata": {
    "colab": {
     "base_uri": "https://localhost:8080/"
    },
    "id": "L-qlaureK1Xu",
    "outputId": "c1571dd2-f659-4470-93d4-41d54ce47d0a"
   },
   "outputs": [
    {
     "name": "stdout",
     "output_type": "stream",
     "text": [
      "..........\n",
      "Average accuracy on training set: 0.9438967136150234\n",
      "Average accuracy on test set: 0.9412587412587412\n",
      "Summary of k values: (k - count)\n",
      "5     2\n",
      "3     2\n",
      "7     2\n",
      "12    1\n",
      "9     1\n",
      "4     1\n",
      "2     1\n",
      "dtype: int64\n"
     ]
    }
   ],
   "source": [
    "# KNN classifier\n",
    "from sklearn.neighbors import KNeighborsClassifier\n",
    "\n",
    "trainAccs, testAccs = [], []\n",
    "ks = []\n",
    "for i in range(N):\n",
    "    print(\".\", end=\"\")\n",
    "    X_train, X_test, y_train, y_test = train_test_split(X, y, test_size=0.25)\n",
    "    maxAccTrain = 0\n",
    "    maxAccTest = 0\n",
    "    maxk = 0\n",
    "    for k in range(1, 30):\n",
    "        knn = KNeighborsClassifier(n_neighbors=k)\n",
    "        knn.fit(X_train, y_train)\n",
    "        KNNaccTrain = knn.score(X_train, y_train)\n",
    "        KNNaccTest = knn.score(X_test, y_test)\n",
    "        if(KNNaccTest > maxAccTest):\n",
    "            maxAccTest = KNNaccTest\n",
    "            maxAccTrain = KNNaccTrain\n",
    "            maxk = k\n",
    "    trainAccs.append(maxAccTrain)\n",
    "    testAccs.append(maxAccTest)\n",
    "    ks.append(maxk)\n",
    "print()\n",
    "KNNaccTrain = sum(trainAccs)/len(trainAccs)\n",
    "KNNaccTest = sum(testAccs)/len(testAccs)\n",
    "print(\"Average accuracy on training set:\", KNNaccTrain)\n",
    "print(\"Average accuracy on test set:\", KNNaccTest)\n",
    "#print the summary of ks\n",
    "print(\"Summary of k values: (k - count)\")\n",
    "print(pd.Series(ks).value_counts())"
   ]
  },
  {
   "cell_type": "markdown",
   "metadata": {
    "id": "DM11H-QyK1Xw"
   },
   "source": [
    "### Stablo odluke"
   ]
  },
  {
   "cell_type": "code",
   "execution_count": 9,
   "metadata": {
    "colab": {
     "base_uri": "https://localhost:8080/"
    },
    "id": "1xBfXVCQK1Xx",
    "outputId": "dafc95a9-5d03-416a-ee3c-167973b835e5"
   },
   "outputs": [
    {
     "name": "stdout",
     "output_type": "stream",
     "text": [
      "..........\n",
      "Average accuracy on training set: 1.0\n",
      "Average accuracy on test set: 0.9181818181818183\n"
     ]
    }
   ],
   "source": [
    "#decision tree\n",
    "from sklearn.tree import DecisionTreeClassifier\n",
    "\n",
    "trainAccs, testAccs = [], []\n",
    "for i in range(N):\n",
    "  print(\".\", end=\"\")\n",
    "  X_train, X_test, y_train, y_test = train_test_split(X, y, test_size=0.25)\n",
    "\n",
    "  tree = DecisionTreeClassifier()\n",
    "  tree.fit(X_train, y_train)\n",
    "  treeAccTrain = tree.score(X_train, y_train)\n",
    "  treeAccTest = tree.score(X_test, y_test)\n",
    "\n",
    "  trainAccs.append(treeAccTrain)\n",
    "  testAccs.append(treeAccTest)\n",
    "print()\n",
    "treeAccTrain = sum(trainAccs)/len(trainAccs)\n",
    "treeAccTest = sum(testAccs)/len(testAccs)\n",
    "print(\"Average accuracy on training set:\", treeAccTrain)\n",
    "print(\"Average accuracy on test set:\", treeAccTest)\n"
   ]
  },
  {
   "cell_type": "markdown",
   "metadata": {
    "id": "CBAGOdZpK1X1"
   },
   "source": [
    "### Stablo odluke - podrezivanje"
   ]
  },
  {
   "cell_type": "code",
   "execution_count": 10,
   "metadata": {
    "colab": {
     "base_uri": "https://localhost:8080/"
    },
    "id": "q0OdyuolK1X2",
    "outputId": "20dc8b5c-a7c6-44ae-ad26-fd0b01828ab3"
   },
   "outputs": [
    {
     "name": "stdout",
     "output_type": "stream",
     "text": [
      "..........\n",
      "Average accuracy on training set: 0.989906103286385\n",
      "Average accuracy on test set: 0.9531468531468532\n",
      "Summary of depth values: (depth - count)\n",
      "4    3\n",
      "6    3\n",
      "2    1\n",
      "5    1\n",
      "7    1\n",
      "9    1\n",
      "dtype: int64\n"
     ]
    }
   ],
   "source": [
    "\n",
    "trainAccs, testAccs = [], []\n",
    "depths = []\n",
    "for i in range(N):\n",
    "  print(\".\", end=\"\")\n",
    "  maxAccTrain = 0\n",
    "  maxAccTest = 0\n",
    "  for depth in range(1, 10):\n",
    "    X_train, X_test, y_train, y_test = train_test_split(X, y, test_size=0.25)\n",
    "\n",
    "    ##prune the tree\n",
    "    tree = DecisionTreeClassifier(max_depth=depth)\n",
    "    tree.fit(X_train, y_train)\n",
    "    \n",
    "    pruneTreeAccTrain = tree.score(X_train, y_train)\n",
    "    pruneTreeAccTest = tree.score(X_test, y_test)\n",
    "\n",
    "    if(pruneTreeAccTest > maxAccTest):\n",
    "      maxAccTest = pruneTreeAccTest\n",
    "      maxAccTrain = pruneTreeAccTrain\n",
    "      maxDepth = depth\n",
    "  trainAccs.append(maxAccTrain)\n",
    "  testAccs.append(maxAccTest)\n",
    "  depths.append(maxDepth)\n",
    "\n",
    "print()\n",
    "pruneTreeAccTrain = sum(trainAccs)/len(trainAccs)\n",
    "pruneTreeAccTest = sum(testAccs)/len(testAccs)\n",
    "print(\"Average accuracy on training set:\", pruneTreeAccTrain)\n",
    "print(\"Average accuracy on test set:\", pruneTreeAccTest)\n",
    "#print the summary of depths\n",
    "print(\"Summary of depth values: (depth - count)\")\n",
    "print(pd.Series(depths).value_counts())"
   ]
  },
  {
   "cell_type": "markdown",
   "metadata": {
    "id": "0LPRIf64K1X4"
   },
   "source": [
    "### Naivni Bayesov klasifikator"
   ]
  },
  {
   "cell_type": "code",
   "execution_count": 11,
   "metadata": {
    "colab": {
     "base_uri": "https://localhost:8080/"
    },
    "id": "pxa43t0gK1X4",
    "outputId": "5b752d43-1630-4cae-c836-4c498011b497"
   },
   "outputs": [
    {
     "name": "stdout",
     "output_type": "stream",
     "text": [
      "..........\n",
      "Average accuracy on training set: 0.9443661971830986\n",
      "Average accuracy on test set: 0.9335664335664335\n"
     ]
    }
   ],
   "source": [
    "#naive bayes\n",
    "from sklearn.naive_bayes import GaussianNB\n",
    "\n",
    "trainAccs, testAccs = [], []\n",
    "for i in range(N):\n",
    "  print(\".\", end=\"\")\n",
    "  X_train, X_test, y_train, y_test = train_test_split(X, y, test_size=0.25)\n",
    "\n",
    "  nb = GaussianNB()\n",
    "  nb.fit(X_train, y_train)\n",
    "  nbAccTrain = nb.score(X_train, y_train)\n",
    "  nbAccTest = nb.score(X_test, y_test)\n",
    "\n",
    "  trainAccs.append(nbAccTrain)\n",
    "  testAccs.append(nbAccTest)\n",
    "print()\n",
    "nbAccTrain = sum(trainAccs)/len(trainAccs)\n",
    "nbAccTest = sum(testAccs)/len(testAccs)\n",
    "print(\"Average accuracy on training set:\", nbAccTrain)\n",
    "print(\"Average accuracy on test set:\", nbAccTest)"
   ]
  },
  {
   "cell_type": "markdown",
   "metadata": {
    "id": "AOE1SOLvK1X5"
   },
   "source": [
    "### Slučajna šuma"
   ]
  },
  {
   "cell_type": "code",
   "execution_count": 12,
   "metadata": {
    "colab": {
     "base_uri": "https://localhost:8080/"
    },
    "id": "EcpFYEw6K1X6",
    "outputId": "2ed26b29-f01c-4667-b7c2-939bf103b884"
   },
   "outputs": [
    {
     "name": "stdout",
     "output_type": "stream",
     "text": [
      "..........\n",
      "Average accuracy on training set: 1.0\n",
      "Average accuracy on test set: 0.9545454545454545\n"
     ]
    }
   ],
   "source": [
    "#random forest\n",
    "from sklearn.ensemble import RandomForestClassifier\n",
    "\n",
    "trainAccs, testAccs = [], []\n",
    "for i in range(N):\n",
    "  print(\".\", end=\"\")\n",
    "  X_train, X_test, y_train, y_test = train_test_split(X, y, test_size=0.25)\n",
    "\n",
    "  rf = RandomForestClassifier()\n",
    "  rf.fit(X_train, y_train)\n",
    "  rfAccTrain = rf.score(X_train, y_train)\n",
    "  rfAccTest = rf.score(X_test, y_test)\n",
    "\n",
    "  trainAccs.append(rfAccTrain)\n",
    "  testAccs.append(rfAccTest)\n",
    "print()\n",
    "rfAccTrain = sum(trainAccs)/len(trainAccs)\n",
    "rfAccTest = sum(testAccs)/len(testAccs)\n",
    "print(\"Average accuracy on training set:\", rfAccTrain)\n",
    "print(\"Average accuracy on test set:\", rfAccTest)"
   ]
  },
  {
   "cell_type": "markdown",
   "metadata": {
    "id": "O7tjyjYZK1X7"
   },
   "source": [
    "### Slučajna šuma - podrezivanje"
   ]
  },
  {
   "cell_type": "code",
   "execution_count": 13,
   "metadata": {
    "colab": {
     "base_uri": "https://localhost:8080/"
    },
    "id": "k4pRk_AQK1X8",
    "outputId": "f8539812-74a2-44c1-f243-7f1438de708e"
   },
   "outputs": [
    {
     "name": "stdout",
     "output_type": "stream",
     "text": [
      "..........\n",
      "Average accuracy on training set: 0.9915492957746478\n",
      "Average accuracy on test set: 0.9776223776223777\n",
      "Summary of depth values: (depth - count)\n",
      "7    3\n",
      "3    2\n",
      "5    2\n",
      "6    1\n",
      "9    1\n",
      "4    1\n",
      "dtype: int64\n"
     ]
    }
   ],
   "source": [
    "\n",
    "trainAccs, testAccs = [], []\n",
    "depths = []\n",
    "for i in range(N):\n",
    "  print(\".\", end=\"\")\n",
    "  maxAccTrain = 0\n",
    "  maxAccTest = 0\n",
    "  for depth in range(1, 10):\n",
    "    X_train, X_test, y_train, y_test = train_test_split(X, y, test_size=0.25)\n",
    "\n",
    "    ##prune the tree\n",
    "    rf = RandomForestClassifier(max_depth=depth)\n",
    "    rf.fit(X_train, y_train)\n",
    "    \n",
    "    rfPrunedAccTrain = rf.score(X_train, y_train)\n",
    "    rfPrunedAccTest = rf.score(X_test, y_test)\n",
    "\n",
    "    if(rfPrunedAccTest > maxAccTest):\n",
    "      maxAccTest = rfPrunedAccTest\n",
    "      maxAccTrain = rfPrunedAccTrain\n",
    "      maxDepth = depth\n",
    "  trainAccs.append(maxAccTrain)\n",
    "  testAccs.append(maxAccTest)\n",
    "  depths.append(maxDepth)\n",
    "\n",
    "print()\n",
    "rfPrunedAccTrain = sum(trainAccs)/len(trainAccs)\n",
    "rfPrunedAccTest = sum(testAccs)/len(testAccs)\n",
    "print(\"Average accuracy on training set:\", rfPrunedAccTrain)\n",
    "print(\"Average accuracy on test set:\", rfPrunedAccTest)\n",
    "#print the summary of depths\n",
    "print(\"Summary of depth values: (depth - count)\")\n",
    "print(pd.Series(depths).value_counts())"
   ]
  },
  {
   "cell_type": "markdown",
   "metadata": {
    "id": "nLVGM05KK1X9"
   },
   "source": [
    "### Stroj potpornih vektora"
   ]
  },
  {
   "cell_type": "code",
   "execution_count": 14,
   "metadata": {
    "colab": {
     "base_uri": "https://localhost:8080/"
    },
    "id": "7rV0uWrkK1X9",
    "outputId": "5b01038f-f5e9-4a95-daf3-0f4aaf7f00fc"
   },
   "outputs": [
    {
     "name": "stdout",
     "output_type": "stream",
     "text": [
      ".,,,,.,,,,.,,,,.,,,,.,,,,.,,,,.,,,,.,,,,.,,,,.,,,,Average accuracy on training set (method=linear): 0.966431924882629\n",
      "Average accuracy on test set (method=linear): 0.9713286713286713\n",
      "Summary of C values: (C - count)\n",
      "-1    1\n",
      " 5    1\n",
      " 2    2\n",
      " 0    2\n",
      " 1    4\n",
      "dtype: int64\n",
      "\n",
      "Average accuracy on training set (method=poly): 0.9544600938967136\n",
      "Average accuracy on test set (method=poly): 0.9615384615384615\n",
      "Summary of C values: (C - count)\n",
      "1    1\n",
      "6    1\n",
      "2    1\n",
      "4    3\n",
      "5    4\n",
      "dtype: int64\n",
      "\n",
      "Average accuracy on training set (method=rbf): 0.9612676056338028\n",
      "Average accuracy on test set (method=rbf): 0.9629370629370628\n",
      "Summary of C values: (C - count)\n",
      "3    1\n",
      "6    2\n",
      "2    2\n",
      "4    5\n",
      "dtype: int64\n",
      "\n",
      "Average accuracy on training set (method=sigmoid): 0.6218309859154929\n",
      "Average accuracy on test set (method=sigmoid): 0.6440559440559441\n",
      "Summary of C values: (C - count)\n",
      "-15    10\n",
      "dtype: int64\n",
      "\n"
     ]
    }
   ],
   "source": [
    "# SVM\n",
    "from sklearn.svm import SVC\n",
    "\n",
    "methodsAccArrays = {'linear': ([], [], []), 'poly': (\n",
    "    [], [], []), 'rbf': ([], [], []), 'sigmoid': ([], [], [])}\n",
    "\n",
    "for i in range(N):\n",
    "    print(\".\", end=\"\")\n",
    "    X_train, X_test, y_train, y_test = train_test_split(X, y, test_size=0.25)\n",
    "\n",
    "    methodsAccLocal = {'linear': ([], [], []), 'poly': (\n",
    "        [], [], []), 'rbf': ([], [], []), 'sigmoid': ([], [], [])}\n",
    "    for method in methodsAccLocal.keys():\n",
    "        print(\",\", end=\"\")\n",
    "        c = -15\n",
    "        improving = 2\n",
    "        while (c < 4 or improving > 0):\n",
    "            improving -= 1\n",
    "            svm = SVC(kernel=method, C=10**c)\n",
    "            svm.fit(X_train, y_train)\n",
    "            SVMaccTrain = svm.score(X_train, y_train)\n",
    "            SVMaccTest = svm.score(X_test, y_test)\n",
    "            if (len(methodsAccLocal[method][2]) == 0 or SVMaccTest > max(methodsAccLocal[method][2])):\n",
    "                methodsAccLocal[method][0].append(c)\n",
    "                methodsAccLocal[method][1].append(SVMaccTrain)\n",
    "                methodsAccLocal[method][2].append(SVMaccTest)\n",
    "                improving = 2\n",
    "            c += 1\n",
    "    for method in methodsAccLocal.keys():\n",
    "        indexOfBest = methodsAccLocal[method][2].index(\n",
    "            max(methodsAccLocal[method][2]))\n",
    "\n",
    "        methodsAccArrays[method][0].append(\n",
    "            methodsAccLocal[method][0][indexOfBest])\n",
    "        methodsAccArrays[method][1].append(\n",
    "            methodsAccLocal[method][1][indexOfBest])\n",
    "        methodsAccArrays[method][2].append(\n",
    "            methodsAccLocal[method][2][indexOfBest])\n",
    "            \n",
    "methodsAcc = {'linear': (0, 0), 'poly': (\n",
    "    0, 0), 'rbf': (0, 0), 'sigmoid': (0, 0)}\n",
    "\n",
    "# find average of all the best values\n",
    "for method in methodsAccArrays.keys():\n",
    "    methodsAcc[method] = (sum(methodsAccArrays[method][1])/len(\n",
    "        methodsAccArrays[method][1]), sum(methodsAccArrays[method][2])/len(methodsAccArrays[method][2]))\n",
    "\n",
    "    print(\n",
    "        f\"Average accuracy on training set (method={method}):\", methodsAcc[method][0])\n",
    "    print(\n",
    "        f\"Average accuracy on test set (method={method}):\", methodsAcc[method][1])\n",
    "    print(\"Summary of C values: (C - count)\")\n",
    "    print(pd.Series(methodsAccArrays[method][0]).value_counts(ascending=True))\n",
    "    print()\n",
    "\n",
    "bestAccMethod = None\n",
    "for method in methodsAcc.keys():\n",
    "    if (bestAccMethod == None or methodsAcc[method][1] > methodsAcc[bestAccMethod][1]):\n",
    "        bestAccMethod = method\n",
    "SVMbestAccs = (methodsAcc[bestAccMethod][0], methodsAcc[bestAccMethod][1])"
   ]
  },
  {
   "cell_type": "markdown",
   "metadata": {
    "id": "m6FffR3-K1X-"
   },
   "source": [
    "### Usporedba rezultata\n",
    "Nakon treniranja algoritama, dobiveni su sljedeći rezultati:"
   ]
  },
  {
   "cell_type": "code",
   "execution_count": 15,
   "metadata": {
    "colab": {
     "base_uri": "https://localhost:8080/"
    },
    "id": "2jlLI70WK1X_",
    "outputId": "f8f59b0b-c70e-4a7a-ebcc-d2f728040539"
   },
   "outputs": [
    {
     "name": "stdout",
     "output_type": "stream",
     "text": [
      "Classifier                Training Accuracy    Test Accuracy\n",
      "----------------------  -------------------  ---------------\n",
      "Logistic Regression                0.960798         0.953846\n",
      "KNN                                0.974178         0.979021\n",
      "Decision Tree                      1                0.918182\n",
      "Decision Tree (pruned)             0.989906         0.953147\n",
      "Naive Bayes                        0.944366         0.933566\n",
      "Random Forest                      1                0.954545\n",
      "Random Forest (pruned)             0.991549         0.977622\n",
      "SVM                                0.966432         0.971329\n"
     ]
    }
   ],
   "source": [
    "# make an aligned markdown table with all the accuracies\n",
    "from tabulate import tabulate\n",
    "table = [['Logistic Regression', LRaccTrain, LRaccTest]\n",
    ", ['KNN', maxAccTrain, maxAccTest]\n",
    ", ['Decision Tree', treeAccTrain, treeAccTest]\n",
    ", ['Decision Tree (pruned)', pruneTreeAccTrain, pruneTreeAccTest]\n",
    ", ['Naive Bayes', nbAccTrain, nbAccTest]\n",
    ", ['Random Forest', rfAccTrain, rfAccTest]\n",
    ", ['Random Forest (pruned)', rfPrunedAccTrain, rfPrunedAccTest]\n",
    ", ['SVM', SVMbestAccs[0], SVMbestAccs[1]]]\n",
    "print(tabulate(table, headers=['Classifier',\n",
    "      'Training Accuracy', 'Test Accuracy']))\n"
   ]
  },
  {
   "cell_type": "markdown",
   "metadata": {
    "id": "QfP48DVtK1X_"
   },
   "source": [
    "Rezultati dobiveni u referentnom radu su:\n",
    "\n",
    "![](accuracy_table.png)"
   ]
  },
  {
   "cell_type": "markdown",
   "metadata": {
    "id": "ak-ebqOqK1YA"
   },
   "source": [
    "### Algoritam K-sredina (KMeans) "
   ]
  },
  {
   "cell_type": "markdown",
   "metadata": {},
   "source": [
    "Kao dodatnu metodu strojnog učenja, primijenili smo algoritam KMeans ili K-sredina koji za razliku od ostalih modela spada pod metode nenadziranog strojnog učenja (svi ostali modeli pripadaju nadziranom učenju). Ovaj algoritam iako podsjeća na model KNN, ipak ima jednu značajnu razliku, a to je da pošto se radi o nenadziranom učenju, algoritmu ne dajemo informaciju o stvarnim klasama modela. Umjesto toga, algoritmu predajemo _neoznačene_ primjere $\\{x_i\\}^N_{i=1}$ bez pripadne klase, te će ih algoritam grupirati na temelju zajedničkih karakteristika.\n",
    "\n",
    "Taj postupak grupiranja na temelju zajedničikih karakteristika implementiran je na način da sve neoznačene primjere preslikamno u dvodimenzionalni prostor te ih grupiramo na temelju međusobne euklidske udaljenosti između određenih parova primjera. Kao kod KNN, KMeans prima argument K koji označava broj grupa (eng. _clusters_) u koje ćemo grupirati primjere. Algoritam započinje na način da u prvoj iteraciji nasumično odabere K primjera koje ćemo zvati _centroidi_. Svaki centroid označava jednu klasu. Zatim svim ostalim primjerima izračunamo euklidsku udaljenost od svakog centroida, te ih svrstamo u klasu onog centroida kojemu je primjer najbliži. Za dobivenih K klasa svakoj izračunamo \"srednju točku\", odnosno aritmetičku sredinu svih primjera te smo na taj način dobili novih K centroida te se isti postupak grupiranja ponavlja u idućoj iteraciji. Algoritam prestaje kada u dvije iteracije zaredom niti jedan primjer ne promijeni klasu.\n",
    "\n",
    "Naravno, naši neoznačeni primjeri nisu dvodimenzionalni (broj značajki > 2) tako da ih moramo preslikati u dvodimenzionalni prostor. To ćemo napraviti PCA (eng. _Principal Component Analysis_) analizom kojoj je upravo to namjena."
   ]
  },
  {
   "cell_type": "code",
   "execution_count": 16,
   "metadata": {
    "colab": {
     "base_uri": "https://localhost:8080/",
     "height": 606
    },
    "id": "W_845RDRK1YA",
    "outputId": "897d8eaa-8288-46be-aaf6-57484f8abd1e"
   },
   "outputs": [
    {
     "data": {
      "image/png": "[encoded data removed]",
      "text/plain": [
       "<Figure size 720x720 with 1 Axes>"
      ]
     },
     "metadata": {
      "needs_background": "light"
     },
     "output_type": "display_data"
    }
   ],
   "source": [
    "from sklearn.decomposition import PCA\n",
    "\n",
    "pca = PCA(n_components = 2)\n",
    "\n",
    "pca.fit(df)\n",
    "\n",
    "x_pca = pca.transform(df)\n",
    "\n",
    "plt.figure(figsize=(10, 10))\n",
    "plt.scatter(x_pca[:,0], x_pca[:,1], c=df['diagnosis'])\n",
    "plt.xlabel(\"First principle component\")\n",
    "plt.ylabel(\"Second principle component\")\n",
    "plt.show()"
   ]
  },
  {
   "cell_type": "markdown",
   "metadata": {},
   "source": [
    "U ovom slučaju podrazumijeva se da će naš K biti jednak 2, jer u originalnom skupu podataka izlazna varijabla ima 2 klase (0 i 1 - benigni i maligni), no to ne mora uvijek biti slučaj. Kvaliteta grupiranja mjeri se inercijom ili _Inertia_, koja je realan broj dobiven računanjem distanca između svih točaka u dvodimenzionalnom (ili pak višedimenzionalnom) prostoru, a u detaljnu formulu za inerciju nećemo ulaziti. Interpretacija mjere _Inertia_ jest da kako kvaliteta K-grupiranja raste,\n",
    "Inertia pada. Sljedeći graf inercije u ovisnosti o K jest samo primjer, pošto mi imamo predodređen K=2.    "
   ]
  },
  {
   "cell_type": "code",
   "execution_count": 17,
   "metadata": {
    "id": "i6jMjc7CK1YB"
   },
   "outputs": [],
   "source": [
    "from sklearn.cluster import KMeans\n",
    "def optimize_k_means(data, max_k):\n",
    "    means = []\n",
    "    inertias = []\n",
    "\n",
    "    for k in range(1, max_k):\n",
    "        kmeans = KMeans(n_clusters = k)\n",
    "        kmeans.fit(data)\n",
    "\n",
    "        means.append(k)\n",
    "        inertias.append(kmeans.inertia_)\n",
    "\n",
    "    fig = plt.subplots(figsize=(10, 5))\n",
    "    plt.plot(means, inertias, 'o-')\n",
    "    plt.xlabel('Number of Clusters')\n",
    "    plt.ylabel('Inertia')\n",
    "    plt.grid(True)\n",
    "    plt.show()"
   ]
  },
  {
   "cell_type": "code",
   "execution_count": 18,
   "metadata": {
    "colab": {
     "base_uri": "https://localhost:8080/",
     "height": 345
    },
    "id": "PwyXC4jCK1YC",
    "outputId": "bcf83d2e-07ba-4508-c7b4-295f5616f81a"
   },
   "outputs": [
    {
     "data": {
      "image/png": "[encoded data removed]",
      "text/plain": [
       "<Figure size 720x360 with 1 Axes>"
      ]
     },
     "metadata": {
      "needs_background": "light"
     },
     "output_type": "display_data"
    }
   ],
   "source": [
    "optimize_k_means(x_pca, 10)"
   ]
  },
  {
   "cell_type": "markdown",
   "metadata": {},
   "source": [
    "Možemo primijeniti algoritam KMeans s argumentom K = 2."
   ]
  },
  {
   "cell_type": "code",
   "execution_count": 19,
   "metadata": {
    "colab": {
     "base_uri": "https://localhost:8080/",
     "height": 516
    },
    "id": "BdSEr2ynNo8_",
    "outputId": "6b7b46f0-75df-46a6-d6dd-6a4765aa014a"
   },
   "outputs": [
    {
     "data": {
      "text/plain": [
       "Text(0.5, 1.0, 'Predicted clusters using KMeans')"
      ]
     },
     "execution_count": 19,
     "metadata": {},
     "output_type": "execute_result"
    },
    {
     "data": {
      "image/png": "[encoded data removed]",
      "text/plain": [
       "<Figure size 720x576 with 2 Axes>"
      ]
     },
     "metadata": {
      "needs_background": "light"
     },
     "output_type": "display_data"
    }
   ],
   "source": [
    "kmeans = KMeans(n_clusters = 2)\n",
    "kmeans.fit(x_pca)\n",
    "labels = kmeans.labels_\n",
    "\n",
    "f, (ax1, ax2) = plt.subplots(1, 2, sharey = True, figsize = (10, 8))\n",
    "\n",
    "ax1.scatter(x = x_pca[:,0], y = x_pca[:,1], c = df['diagnosis'])\n",
    "ax2.scatter(x = x_pca[:,0], y = x_pca[:,1], c = labels)\n",
    "ax1.set_title(\"Actual clusters\")\n",
    "ax2.set_title(\"Predicted clusters using KMeans\")"
   ]
  },
  {
   "cell_type": "markdown",
   "metadata": {},
   "source": [
    "Vidimo da je algoritam KMeans, unatoč tome što nije imao informaciju o stvarnoj klasi primjera, grupirao primjere dobivene PCA analizom poprilično podudarno sa stvarnim klasama tih istih primjera u originalnom skupu podataka.\n",
    "\n",
    "Uspješnost algoritma KMeans možemo izmjeriti Randovim indeksom."
   ]
  },
  {
   "cell_type": "code",
   "execution_count": 21,
   "metadata": {},
   "outputs": [
    {
     "name": "stdout",
     "output_type": "stream",
     "text": [
      "Rand score for Kmeans (K=2) = 0.7503774845912028\n"
     ]
    }
   ],
   "source": [
    "from sklearn.metrics import rand_score\n",
    "\n",
    "print(\"Rand score for Kmeans (K=2) = \" + str(rand_score(df['diagnosis'], labels)))"
   ]
  }
 ],
 "metadata": {
  "colab": {
   "provenance": []
  },
  "kernelspec": {
   "display_name": "Python 3 (ipykernel)",
   "language": "python",
   "name": "python3"
  },
  "language_info": {
   "codemirror_mode": {
    "name": "ipython",
    "version": 3
   },
   "file_extension": ".py",
   "mimetype": "text/x-python",
   "name": "python",
   "nbconvert_exporter": "python",
   "pygments_lexer": "ipython3",
   "version": "3.9.7"
  },
  "vscode": {
   "interpreter": {
    "hash": "a636086dbf68cf48bee50d534d616f63bc1b68ef5763824030be4d2af448cf01"
   }
  }
 },
 "nbformat": 4,
 "nbformat_minor": 1
}
